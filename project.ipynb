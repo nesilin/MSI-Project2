{
 "cells": [
  {
   "cell_type": "code",
   "execution_count": null,
   "metadata": {
    "collapsed": false
   },
   "outputs": [],
   "source": [
    "from htmd import *\n",
    "from htmd.molecule.util import maxDistance, writeVoxels\n",
    "htmd.config(viewer='vmd')"
   ]
  },
  {
   "cell_type": "code",
   "execution_count": null,
   "metadata": {
    "collapsed": false
   },
   "outputs": [],
   "source": [
    "sims = simlist(glob('/pub.htmd.org/CXCL12-confAnalysis/*/'), glob('/pub.htmd.org/CXCL12-confAnalysis/*/structure.pdb'))"
   ]
  },
  {
   "cell_type": "code",
   "execution_count": null,
   "metadata": {
    "collapsed": false
   },
   "outputs": [],
   "source": [
    "names_sys = list()\n",
    "\n",
    "for sim in range(1,len(sims)+1):\n",
    "    names_sys.append(\"sys\"+str(sim))\n",
    "    "
   ]
  },
  {
   "cell_type": "markdown",
   "metadata": {},
   "source": [
    "Keep with different names the elements (simulations) of the simlist into another list."
   ]
  },
  {
   "cell_type": "code",
   "execution_count": null,
   "metadata": {
    "collapsed": false
   },
   "outputs": [],
   "source": [
    "count = 0\n",
    "maxlist=list()\n",
    "for sim in sims:\n",
    "    names_sys[count]= Molecule(sim)\n",
    "    names_sys[count].wrap('protein')\n",
    "    names_sys[count].align('protein')\n",
    "    maxlist.append(maxDistance(names_sys[count], 'all'))\n",
    "    count+=1"
   ]
  },
  {
   "cell_type": "markdown",
   "metadata": {},
   "source": [
    "Keep each of the simulations as a Molecule object and wrap and align them to move the molecules into the simulation box and to fix them. At the same time, computes the maximum distance of the protein to the farthest water molecule of the first frame of each simulation. "
   ]
  },
  {
   "cell_type": "code",
   "execution_count": null,
   "metadata": {
    "collapsed": false
   },
   "outputs": [],
   "source": [
    "D=int(round(max(maxlist)))\n",
    "D"
   ]
  },
  {
   "cell_type": "markdown",
   "metadata": {},
   "source": [
    "From the list of the maximum distances it take the maximum (\"the max of maxs\") into variable D. This is important as,it can be used as a reference to move the protein to the positive quadrant/values in the space (see below)"
   ]
  },
  {
   "cell_type": "code",
   "execution_count": null,
   "metadata": {
    "collapsed": false
   },
   "outputs": [],
   "source": [
    "mat_scores = np.zeros((2*D+15,2*D+15,2*D+15))"
   ]
  },
  {
   "cell_type": "markdown",
   "metadata": {},
   "source": [
    "Because the \"water box\" moves around the fixed protein describing an sphere, the matrix of the water scores (mat_scores) should be two times the maximum distance plus some margin (15 units) just in case. "
   ]
  },
  {
   "cell_type": "code",
   "execution_count": null,
   "metadata": {
    "collapsed": false
   },
   "outputs": [],
   "source": [
    "for sys in names_sys:\n",
    "    sys.moveBy([D,D,D])\n",
    "    wat=sys.copy()\n",
    "    wat.filter('name OH2')\n",
    "    mask=(wat.coords<D*2+15) & (wat.coords>-D*2-15)\n",
    "    wat2 = wat.coords*mask\n",
    "    for atom in range(0, wat2.shape[0]): \n",
    "        for frame in range(0, wat2.shape[2]):\n",
    "            x = int(round(wat2[atom][0][frame]))\n",
    "            y = int(round(wat2[atom][1][frame]))\n",
    "            z = int(round(wat2[atom][2][frame]))\n",
    "            mat_scores[x][y][z] += 1"
   ]
  },
  {
   "cell_type": "markdown",
   "metadata": {},
   "source": [
    "It moves the simulation according to the maximum distance and makes a copy to filter out only the waters. Because there are some values that go out of the mat_scores boundries (due to some artifact in the dataset) a mask matrix of the same dimensions with boolan values turned to be a good solution to filter out those values that were considered \"False\"(each \"False\" value turns to 0). \n",
    "The rounded numbers of the coordinates of the atoms are used to fill the matrix scores. This way avoids to iterate through the 3 space axis (x,y,z) that would have divided the space in little boxes of 1 angstrom adding more loops and therefore more computational cost.\n"
   ]
  },
  {
   "cell_type": "code",
   "execution_count": null,
   "metadata": {
    "collapsed": false
   },
   "outputs": [],
   "source": [
    "mat_scores=mat_scores/len(names_sys)"
   ]
  },
  {
   "cell_type": "code",
   "execution_count": null,
   "metadata": {
    "collapsed": true
   },
   "outputs": [],
   "source": [
    "mat_scores = mat_scores/(wat.coords.shape[0]*wat.coords.shape[2]) "
   ]
  },
  {
   "cell_type": "markdown",
   "metadata": {},
   "source": [
    "Mean and normalization of the scores to have the probability matrix. "
   ]
  },
  {
   "cell_type": "code",
   "execution_count": null,
   "metadata": {
    "collapsed": true
   },
   "outputs": [],
   "source": [
    "kB = 0.001987191\n",
    "T = 298\n",
    "\n",
    "mat_scores= mat_scores+10**(-30)\n",
    "mat_pot =-np.log(mat_scores)*kB*T"
   ]
  },
  {
   "cell_type": "markdown",
   "metadata": {},
   "source": [
    "In order to avoid \"inf\" elements in the matrix potentials (mat_pot) everytime there is a 0 in the matrix scores, let's add 10^-30 to each probability. \n"
   ]
  },
  {
   "cell_type": "code",
   "execution_count": null,
   "metadata": {
    "collapsed": false
   },
   "outputs": [],
   "source": [
    "min_vec=np.array([0,0,0])\n",
    "max_vec=np.array([2*D+15,2*D+15,2*D+15])\n",
    "res_vec=np.array([1,1,1])\n",
    "\n",
    "writeVoxels(mat_pot,'output.cube',min_vec,max_vec,res_vec)"
   ]
  },
  {
   "cell_type": "markdown",
   "metadata": {},
   "source": [
    "writeVoxel is a function that allows to output the results into a cube file so that we can visualize it in VMD. As the systems have been moved, the minimum vector used is [0,0,0] and the maximum is the same number used to initialize the score matrix.\n"
   ]
  },
  {
   "cell_type": "code",
   "execution_count": null,
   "metadata": {
    "collapsed": false
   },
   "outputs": [],
   "source": [
    "names_sys[1].view()"
   ]
  }
 ],
 "metadata": {
  "kernelspec": {
   "display_name": "Python 3",
   "language": "python",
   "name": "python3"
  },
  "language_info": {
   "codemirror_mode": {
    "name": "ipython",
    "version": 3
   },
   "file_extension": ".py",
   "mimetype": "text/x-python",
   "name": "python",
   "nbconvert_exporter": "python",
   "pygments_lexer": "ipython3",
   "version": "3.5.1"
  }
 },
 "nbformat": 4,
 "nbformat_minor": 0
}
